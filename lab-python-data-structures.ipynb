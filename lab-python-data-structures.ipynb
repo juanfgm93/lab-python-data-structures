{
 "cells": [
  {
   "cell_type": "markdown",
   "metadata": {
    "tags": []
   },
   "source": [
    "# Lab | Data Structures "
   ]
  },
  {
   "cell_type": "markdown",
   "metadata": {},
   "source": [
    "## Exercise: Managing Customer Orders\n",
    "\n",
    "As part of a business venture, you are starting an online store that sells various products. To ensure smooth operations, you need to develop a program that manages customer orders and inventory.\n",
    "\n",
    "Follow the steps below to complete the exercise:\n",
    "\n",
    "1. Define a list called `products` that contains the following items: \"t-shirt\", \"mug\", \"hat\", \"book\", \"keychain\".\n",
    "\n",
    "2. Create an empty dictionary called `inventory`.\n",
    "\n",
    "3. Ask the user to input the quantity of each product available in the inventory. Use the product names from the `products` list as keys in the `inventory` dictionary and assign the respective quantities as values.\n",
    "\n",
    "4. Create an empty set called `customer_orders`.\n",
    "\n",
    "5. Ask the user to input the name of three products that a customer wants to order (from those in the products list, meaning three products out of \"t-shirt\", \"mug\", \"hat\", \"book\" or \"keychain\". Add each product name to the `customer_orders` set.\n",
    "\n",
    "6. Print the products in the `customer_orders` set.\n",
    "\n",
    "7. Calculate the following order statistics:\n",
    "   - Total Products Ordered: The total number of products in the `customer_orders` set.\n",
    "   - Percentage of Products Ordered: The percentage of products ordered compared to the total available products.\n",
    "   \n",
    "   Store these statistics in a tuple called `order_status`.\n",
    "\n",
    "8. Print the order statistics using the following format:\n",
    "   ```\n",
    "   Order Statistics:\n",
    "   Total Products Ordered: <total_products_ordered>\n",
    "   Percentage of Products Ordered: <percentage_ordered>% \n",
    "   ```\n",
    "\n",
    "9. Update the inventory by subtracting 1 from the quantity of each product. Modify the `inventory` dictionary accordingly.\n",
    "\n",
    "10. Print the updated inventory, displaying the quantity of each product on separate lines.\n",
    "\n",
    "Solve the exercise by implementing the steps using the Python concepts of lists, dictionaries, sets, and basic input/output operations. "
   ]
  },
  {
   "cell_type": "code",
   "execution_count": 13,
   "metadata": {},
   "outputs": [
    {
     "name": "stdout",
     "output_type": "stream",
     "text": [
      "{'t-shirt': 5, 'mug': 5, 'hat': 5, 'book': 5, 'keychain': 5}\n"
     ]
    }
   ],
   "source": [
    "# 1. Define a list called `products` that contains the following items: \"t-shirt\", \"mug\", \"hat\", \"book\", \"keychain\".\n",
    "# 2. Create an empty dictionary called `inventory`.\n",
    "# 3. Ask the user to input the quantity of each product available in the inventory. Use the product names from the `products` list as keys in \n",
    "# the `inventory` dictionary and assign the respective quantities as values.\n",
    "\n",
    "products = ['t-shirt', 'mug', 'hat', 'book', 'keychain']\n",
    "inventory = {}\n",
    "for product in products:\n",
    "    inventory[product] = int(input(f'Please enter the quantity of {product}: '))\n",
    "print(inventory)"
   ]
  },
  {
   "cell_type": "code",
   "execution_count": 14,
   "metadata": {},
   "outputs": [
    {
     "name": "stdout",
     "output_type": "stream",
     "text": [
      "{'hat', 'book', 'mug'}\n"
     ]
    }
   ],
   "source": [
    "# 4. Create an empty set called `customer_orders`.\n",
    "# 5. Ask the user to input the name of three products that a customer wants to order (from those in the products list, meaning three products out \n",
    "# of \"t-shirt\", \"mug\", \"hat\", \"book\" or \"keychain\". Add each product name to the `customer_orders` set.\n",
    "# 6. Print the products in the `customer_orders` set.\n",
    "\n",
    "customer_orders = set()\n",
    "\n",
    "for i in range(3):\n",
    "    pre_customer_orders = input(f'Enter 3 products out of {products}: ')\n",
    "    customer_orders.add(pre_customer_orders)\n",
    "print(customer_orders)"
   ]
  },
  {
   "cell_type": "code",
   "execution_count": 15,
   "metadata": {},
   "outputs": [],
   "source": [
    "# 7. Calculate the following order statistics:\n",
    "#   - Total Products Ordered: The total number of products in the `customer_orders` set.\n",
    "#   - Percentage of Products Ordered: The percentage of products ordered compared to the total available products.\n",
    "#   Store these statistics in a tuple called `order_status`.\n",
    "\n",
    "total_products_ordered = len(customer_orders)\n",
    "percentage_customer_orders = (len(customer_orders)/len(products))*100\n",
    "order_status = (total_products_ordered,percentage_customer_orders)"
   ]
  },
  {
   "cell_type": "code",
   "execution_count": 16,
   "metadata": {},
   "outputs": [
    {
     "name": "stdout",
     "output_type": "stream",
     "text": [
      "Total products ordered: 3\n",
      "60.0 %\n"
     ]
    }
   ],
   "source": [
    "# 8. Print the order statistics using the following format:\n",
    "\n",
    "#   Order Statistics:\n",
    "#   Total Products Ordered: <total_products_ordered>\n",
    "#   Percentage of Products Ordered: <percentage_ordered>%\n",
    "\n",
    "print(f'Total products ordered: {total_products_ordered}')\n",
    "print(percentage_customer_orders,'%')"
   ]
  },
  {
   "cell_type": "code",
   "execution_count": 17,
   "metadata": {},
   "outputs": [
    {
     "name": "stdout",
     "output_type": "stream",
     "text": [
      "updated inventory by substracting\n",
      "t-shirt : 5\n",
      "mug : 5\n",
      "hat : 5\n",
      "book : 5\n",
      "keychain : 5\n"
     ]
    }
   ],
   "source": [
    "# 9. Update the inventory by subtracting 1 from the quantity of each product. Modify the `inventory` dictionary accordingly.\n",
    "# 10. Print the updated inventory, displaying the quantity of each product on separate lines.\n",
    "\n",
    "print ('updated inventory by substracting')\n",
    "\n",
    "for key, value in inventory.items():\n",
    "    inventory[key] = value -1\n",
    "    print(key, ':', value)"
   ]
  }
 ],
 "metadata": {
  "kernelspec": {
   "display_name": "Python 3 (ipykernel)",
   "language": "python",
   "name": "python3"
  },
  "language_info": {
   "codemirror_mode": {
    "name": "ipython",
    "version": 3
   },
   "file_extension": ".py",
   "mimetype": "text/x-python",
   "name": "python",
   "nbconvert_exporter": "python",
   "pygments_lexer": "ipython3",
   "version": "3.11.5"
  }
 },
 "nbformat": 4,
 "nbformat_minor": 4
}
